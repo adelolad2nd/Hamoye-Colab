{
  "nbformat": 4,
  "nbformat_minor": 0,
  "metadata": {
    "colab": {
      "name": "Hamoye Internship Stage One Quiz.ipynb",
      "provenance": [],
      "authorship_tag": "ABX9TyOaZc0cQSPgyO/hJGitTT5E",
      "include_colab_link": true
    },
    "kernelspec": {
      "name": "python3",
      "display_name": "Python 3"
    }
  },
  "cells": [
    {
      "cell_type": "markdown",
      "metadata": {
        "id": "view-in-github",
        "colab_type": "text"
      },
      "source": [
        "<a href=\"https://colab.research.google.com/github/adelolad2nd/Hamoye-Internship/blob/master/Hamoye_Internship_Stage_One_Quiz.ipynb\" target=\"_parent\"><img src=\"https://colab.research.google.com/assets/colab-badge.svg\" alt=\"Open In Colab\"/></a>"
      ]
    },
    {
      "cell_type": "markdown",
      "metadata": {
        "id": "2ewpxZYDB91e",
        "colab_type": "text"
      },
      "source": [
        "# HAMOYE STAGE ONE QUIZ"
      ]
    },
    {
      "cell_type": "markdown",
      "metadata": {
        "id": "NO78DFskCGyN",
        "colab_type": "text"
      },
      "source": [
        "###Question 1"
      ]
    },
    {
      "cell_type": "code",
      "metadata": {
        "id": "i4CGFYGDB53V",
        "colab_type": "code",
        "colab": {
          "base_uri": "https://localhost:8080/",
          "height": 33
        },
        "outputId": "5a8cda1f-1dfc-4ffd-c4cc-c25605b6f298"
      },
      "source": [
        "A = [1,2,3,4,5,6]\n",
        "B = [13, 21, 34]\n",
        "A.extend(B)\n",
        "print(A)"
      ],
      "execution_count": null,
      "outputs": [
        {
          "output_type": "stream",
          "text": [
            "[1, 2, 3, 4, 5, 6, 13, 21, 34]\n"
          ],
          "name": "stdout"
        }
      ]
    },
    {
      "cell_type": "markdown",
      "metadata": {
        "id": "tjZVYTVNCMWB",
        "colab_type": "text"
      },
      "source": [
        "### Question 2"
      ]
    },
    {
      "cell_type": "code",
      "metadata": {
        "id": "JszP3kubCYoi",
        "colab_type": "code",
        "colab": {
          "base_uri": "https://localhost:8080/",
          "height": 66
        },
        "outputId": "c8d11532-e46e-4758-c3eb-6e7acf9b0d15"
      },
      "source": [
        "import numpy as np\n",
        "a = np.identity(3)\n",
        "print(a)"
      ],
      "execution_count": null,
      "outputs": [
        {
          "output_type": "stream",
          "text": [
            "[[1. 0. 0.]\n",
            " [0. 1. 0.]\n",
            " [0. 0. 1.]]\n"
          ],
          "name": "stdout"
        }
      ]
    },
    {
      "cell_type": "markdown",
      "metadata": {
        "id": "pAxRSps0KGZr",
        "colab_type": "text"
      },
      "source": [
        "##Preparing data set for next questions"
      ]
    },
    {
      "cell_type": "code",
      "metadata": {
        "id": "oKBWMErRI8CK",
        "colab_type": "code",
        "colab": {
          "base_uri": "https://localhost:8080/",
          "height": 228
        },
        "outputId": "95c41ece-a699-403c-80fb-60e08187ee6a"
      },
      "source": [
        "#Importing data\n",
        "import numpy as np\n",
        "import pandas as pd\n",
        "df = pd.read_csv(r'https://raw.githubusercontent.com/WalePhenomenon/climate_change/master/fuel_ferc1.csv')\n",
        "print(df.shape)\n",
        "print(df.isnull().sum())"
      ],
      "execution_count": null,
      "outputs": [
        {
          "output_type": "stream",
          "text": [
            "(29523, 11)\n",
            "record_id                         0\n",
            "utility_id_ferc1                  0\n",
            "report_year                       0\n",
            "plant_name_ferc1                  0\n",
            "fuel_type_code_pudl               0\n",
            "fuel_unit                       180\n",
            "fuel_qty_burned                   0\n",
            "fuel_mmbtu_per_unit               0\n",
            "fuel_cost_per_unit_burned         0\n",
            "fuel_cost_per_unit_delivered      0\n",
            "fuel_cost_per_mmbtu               0\n",
            "dtype: int64\n"
          ],
          "name": "stdout"
        }
      ]
    },
    {
      "cell_type": "code",
      "metadata": {
        "id": "9x5e2QXKJIhJ",
        "colab_type": "code",
        "colab": {}
      },
      "source": [
        "#Filling in empty cells with most common factors\n",
        "#df.groupby('fuel_unit')['fuel_unit'].count()\n",
        "#df[['fuel_unit']] = df[['fuel_unit']].fillna(value = 'mcf')\n",
        "#df.isnull().sum()"
      ],
      "execution_count": null,
      "outputs": []
    },
    {
      "cell_type": "markdown",
      "metadata": {
        "id": "5kifh6Y2EVkD",
        "colab_type": "text"
      },
      "source": [
        "### Question 3"
      ]
    },
    {
      "cell_type": "markdown",
      "metadata": {
        "id": "0veFxcDdrj1v",
        "colab_type": "text"
      },
      "source": [
        "Gas"
      ]
    },
    {
      "cell_type": "code",
      "metadata": {
        "id": "jQSiqyj9EZ_G",
        "colab_type": "code",
        "colab": {
          "base_uri": "https://localhost:8080/",
          "height": 147
        },
        "outputId": "c1db1331-7709-4e8f-df42-d443f8e5aaa2"
      },
      "source": [
        "df.groupby('fuel_type_code_pudl')['fuel_cost_per_unit_burned'].mean()"
      ],
      "execution_count": null,
      "outputs": [
        {
          "output_type": "execute_result",
          "data": {
            "text/plain": [
              "fuel_type_code_pudl\n",
              "coal         67.421830\n",
              "gas          13.659397\n",
              "nuclear    4955.157002\n",
              "oil         168.877086\n",
              "other        18.253856\n",
              "waste        19.518122\n",
              "Name: fuel_cost_per_unit_burned, dtype: float64"
            ]
          },
          "metadata": {
            "tags": []
          },
          "execution_count": 13
        }
      ]
    },
    {
      "cell_type": "markdown",
      "metadata": {
        "id": "_ABChKsTKYlo",
        "colab_type": "text"
      },
      "source": [
        "###Question 4"
      ]
    },
    {
      "cell_type": "markdown",
      "metadata": {
        "id": "uU7JoXabrpUe",
        "colab_type": "text"
      },
      "source": [
        "10.60 and 17.01"
      ]
    },
    {
      "cell_type": "code",
      "metadata": {
        "id": "107eaotaKbW9",
        "colab_type": "code",
        "colab": {
          "base_uri": "https://localhost:8080/",
          "height": 277
        },
        "outputId": "e5ef15f1-d23e-4ec7-ed8f-a1adfcb63767"
      },
      "source": [
        "df.describe()"
      ],
      "execution_count": null,
      "outputs": [
        {
          "output_type": "execute_result",
          "data": {
            "text/html": [
              "<div>\n",
              "<style scoped>\n",
              "    .dataframe tbody tr th:only-of-type {\n",
              "        vertical-align: middle;\n",
              "    }\n",
              "\n",
              "    .dataframe tbody tr th {\n",
              "        vertical-align: top;\n",
              "    }\n",
              "\n",
              "    .dataframe thead th {\n",
              "        text-align: right;\n",
              "    }\n",
              "</style>\n",
              "<table border=\"1\" class=\"dataframe\">\n",
              "  <thead>\n",
              "    <tr style=\"text-align: right;\">\n",
              "      <th></th>\n",
              "      <th>utility_id_ferc1</th>\n",
              "      <th>report_year</th>\n",
              "      <th>fuel_qty_burned</th>\n",
              "      <th>fuel_mmbtu_per_unit</th>\n",
              "      <th>fuel_cost_per_unit_burned</th>\n",
              "      <th>fuel_cost_per_unit_delivered</th>\n",
              "      <th>fuel_cost_per_mmbtu</th>\n",
              "    </tr>\n",
              "  </thead>\n",
              "  <tbody>\n",
              "    <tr>\n",
              "      <th>count</th>\n",
              "      <td>29523.000000</td>\n",
              "      <td>29523.000000</td>\n",
              "      <td>2.952300e+04</td>\n",
              "      <td>29523.000000</td>\n",
              "      <td>29523.000000</td>\n",
              "      <td>2.952300e+04</td>\n",
              "      <td>29523.000000</td>\n",
              "    </tr>\n",
              "    <tr>\n",
              "      <th>mean</th>\n",
              "      <td>118.601836</td>\n",
              "      <td>2005.806050</td>\n",
              "      <td>2.622119e+06</td>\n",
              "      <td>8.492111</td>\n",
              "      <td>208.649031</td>\n",
              "      <td>9.175704e+02</td>\n",
              "      <td>19.304354</td>\n",
              "    </tr>\n",
              "    <tr>\n",
              "      <th>std</th>\n",
              "      <td>74.178353</td>\n",
              "      <td>7.025483</td>\n",
              "      <td>9.118004e+06</td>\n",
              "      <td>10.600220</td>\n",
              "      <td>2854.490090</td>\n",
              "      <td>6.877593e+04</td>\n",
              "      <td>2091.540939</td>\n",
              "    </tr>\n",
              "    <tr>\n",
              "      <th>min</th>\n",
              "      <td>1.000000</td>\n",
              "      <td>1994.000000</td>\n",
              "      <td>1.000000e+00</td>\n",
              "      <td>0.000001</td>\n",
              "      <td>-276.080000</td>\n",
              "      <td>-8.749370e+02</td>\n",
              "      <td>-41.501000</td>\n",
              "    </tr>\n",
              "    <tr>\n",
              "      <th>25%</th>\n",
              "      <td>55.000000</td>\n",
              "      <td>2000.000000</td>\n",
              "      <td>1.381700e+04</td>\n",
              "      <td>1.024000</td>\n",
              "      <td>5.207000</td>\n",
              "      <td>3.778500e+00</td>\n",
              "      <td>1.940000</td>\n",
              "    </tr>\n",
              "    <tr>\n",
              "      <th>50%</th>\n",
              "      <td>122.000000</td>\n",
              "      <td>2006.000000</td>\n",
              "      <td>2.533220e+05</td>\n",
              "      <td>5.762694</td>\n",
              "      <td>26.000000</td>\n",
              "      <td>1.737100e+01</td>\n",
              "      <td>4.127000</td>\n",
              "    </tr>\n",
              "    <tr>\n",
              "      <th>75%</th>\n",
              "      <td>176.000000</td>\n",
              "      <td>2012.000000</td>\n",
              "      <td>1.424034e+06</td>\n",
              "      <td>17.006000</td>\n",
              "      <td>47.113000</td>\n",
              "      <td>4.213700e+01</td>\n",
              "      <td>7.745000</td>\n",
              "    </tr>\n",
              "    <tr>\n",
              "      <th>max</th>\n",
              "      <td>514.000000</td>\n",
              "      <td>2018.000000</td>\n",
              "      <td>5.558942e+08</td>\n",
              "      <td>341.260000</td>\n",
              "      <td>139358.000000</td>\n",
              "      <td>7.964521e+06</td>\n",
              "      <td>359278.000000</td>\n",
              "    </tr>\n",
              "  </tbody>\n",
              "</table>\n",
              "</div>"
            ],
            "text/plain": [
              "       utility_id_ferc1  ...  fuel_cost_per_mmbtu\n",
              "count      29523.000000  ...         29523.000000\n",
              "mean         118.601836  ...            19.304354\n",
              "std           74.178353  ...          2091.540939\n",
              "min            1.000000  ...           -41.501000\n",
              "25%           55.000000  ...             1.940000\n",
              "50%          122.000000  ...             4.127000\n",
              "75%          176.000000  ...             7.745000\n",
              "max          514.000000  ...        359278.000000\n",
              "\n",
              "[8 rows x 7 columns]"
            ]
          },
          "metadata": {
            "tags": []
          },
          "execution_count": 14
        }
      ]
    },
    {
      "cell_type": "markdown",
      "metadata": {
        "id": "_V73gbDWL5il",
        "colab_type": "text"
      },
      "source": [
        "###Question 5"
      ]
    },
    {
      "cell_type": "markdown",
      "metadata": {
        "id": "UgF8sWP9spwp",
        "colab_type": "text"
      },
      "source": [
        "15.85 and 651.37"
      ]
    },
    {
      "cell_type": "code",
      "metadata": {
        "id": "KPHMcwFhL8KS",
        "colab_type": "code",
        "colab": {
          "base_uri": "https://localhost:8080/",
          "height": 147
        },
        "outputId": "283eb236-6bea-4f58-b18d-a6383ffc256c"
      },
      "source": [
        "df.skew()"
      ],
      "execution_count": null,
      "outputs": [
        {
          "output_type": "execute_result",
          "data": {
            "text/plain": [
              "utility_id_ferc1                  0.605070\n",
              "report_year                       0.006953\n",
              "fuel_qty_burned                  15.851495\n",
              "fuel_mmbtu_per_unit               4.135217\n",
              "fuel_cost_per_unit_burned        19.787440\n",
              "fuel_cost_per_unit_delivered    105.014227\n",
              "fuel_cost_per_mmbtu             171.675535\n",
              "dtype: float64"
            ]
          },
          "metadata": {
            "tags": []
          },
          "execution_count": 55
        }
      ]
    },
    {
      "cell_type": "code",
      "metadata": {
        "id": "Fx1xIfjTsuID",
        "colab_type": "code",
        "colab": {
          "base_uri": "https://localhost:8080/",
          "height": 147
        },
        "outputId": "c366ae41-fa45-42cd-9cb3-3ea45328ff24"
      },
      "source": [
        "df.kurtosis()"
      ],
      "execution_count": null,
      "outputs": [
        {
          "output_type": "execute_result",
          "data": {
            "text/plain": [
              "utility_id_ferc1                    1.088432\n",
              "report_year                        -1.145656\n",
              "fuel_qty_burned                   651.369450\n",
              "fuel_mmbtu_per_unit                55.595695\n",
              "fuel_cost_per_unit_burned         485.255851\n",
              "fuel_cost_per_unit_delivered    11765.054226\n",
              "fuel_cost_per_mmbtu             29489.132594\n",
              "dtype: float64"
            ]
          },
          "metadata": {
            "tags": []
          },
          "execution_count": 57
        }
      ]
    },
    {
      "cell_type": "markdown",
      "metadata": {
        "id": "JhXwhSXBNE-4",
        "colab_type": "text"
      },
      "source": [
        "###Question 6"
      ]
    },
    {
      "cell_type": "code",
      "metadata": {
        "id": "0pIGsFKQNJr9",
        "colab_type": "code",
        "colab": {
          "base_uri": "https://localhost:8080/",
          "height": 228
        },
        "outputId": "17c43952-c6d0-46d0-8215-468c83703f6f"
      },
      "source": [
        "print(df.shape)\n",
        "print(df.isnull().sum())"
      ],
      "execution_count": null,
      "outputs": [
        {
          "output_type": "stream",
          "text": [
            "(29523, 11)\n",
            "record_id                         0\n",
            "utility_id_ferc1                  0\n",
            "report_year                       0\n",
            "plant_name_ferc1                  0\n",
            "fuel_type_code_pudl               0\n",
            "fuel_unit                       180\n",
            "fuel_qty_burned                   0\n",
            "fuel_mmbtu_per_unit               0\n",
            "fuel_cost_per_unit_burned         0\n",
            "fuel_cost_per_unit_delivered      0\n",
            "fuel_cost_per_mmbtu               0\n",
            "dtype: int64\n"
          ],
          "name": "stdout"
        }
      ]
    },
    {
      "cell_type": "code",
      "metadata": {
        "id": "jofqljKDSkdn",
        "colab_type": "code",
        "colab": {
          "base_uri": "https://localhost:8080/",
          "height": 33
        },
        "outputId": "dded567d-7edf-49dc-fd19-bcc42ba9e598"
      },
      "source": [
        "180/29523 *100"
      ],
      "execution_count": null,
      "outputs": [
        {
          "output_type": "execute_result",
          "data": {
            "text/plain": [
              "0.609694136774718"
            ]
          },
          "metadata": {
            "tags": []
          },
          "execution_count": 17
        }
      ]
    },
    {
      "cell_type": "markdown",
      "metadata": {
        "id": "AAt4cYKTSx8D",
        "colab_type": "text"
      },
      "source": [
        "Feature=fuel_unit, \n",
        "Total=29523, \n",
        "Percent=0.61"
      ]
    },
    {
      "cell_type": "markdown",
      "metadata": {
        "id": "4PXInQYlNP3_",
        "colab_type": "text"
      },
      "source": [
        "###Question 7"
      ]
    },
    {
      "cell_type": "markdown",
      "metadata": {
        "id": "f-wxNy2hVxkJ",
        "colab_type": "text"
      },
      "source": [
        "Categorical and Mode Imputation"
      ]
    },
    {
      "cell_type": "markdown",
      "metadata": {
        "id": "r11-iJ9YNUMZ",
        "colab_type": "text"
      },
      "source": [
        "### Question 8"
      ]
    },
    {
      "cell_type": "markdown",
      "metadata": {
        "id": "zCHTAgvDW8_z",
        "colab_type": "text"
      },
      "source": [
        "fuel_quantity_burned and fuel_mmbtu_per_unit"
      ]
    },
    {
      "cell_type": "code",
      "metadata": {
        "id": "OyMIOTaYer5j",
        "colab_type": "code",
        "colab": {
          "base_uri": "https://localhost:8080/",
          "height": 248
        },
        "outputId": "faaed2aa-d714-4d29-ea20-e66723992256"
      },
      "source": [
        "df.corr()"
      ],
      "execution_count": null,
      "outputs": [
        {
          "output_type": "execute_result",
          "data": {
            "text/html": [
              "<div>\n",
              "<style scoped>\n",
              "    .dataframe tbody tr th:only-of-type {\n",
              "        vertical-align: middle;\n",
              "    }\n",
              "\n",
              "    .dataframe tbody tr th {\n",
              "        vertical-align: top;\n",
              "    }\n",
              "\n",
              "    .dataframe thead th {\n",
              "        text-align: right;\n",
              "    }\n",
              "</style>\n",
              "<table border=\"1\" class=\"dataframe\">\n",
              "  <thead>\n",
              "    <tr style=\"text-align: right;\">\n",
              "      <th></th>\n",
              "      <th>utility_id_ferc1</th>\n",
              "      <th>report_year</th>\n",
              "      <th>fuel_qty_burned</th>\n",
              "      <th>fuel_mmbtu_per_unit</th>\n",
              "      <th>fuel_cost_per_unit_burned</th>\n",
              "      <th>fuel_cost_per_unit_delivered</th>\n",
              "      <th>fuel_cost_per_mmbtu</th>\n",
              "    </tr>\n",
              "  </thead>\n",
              "  <tbody>\n",
              "    <tr>\n",
              "      <th>utility_id_ferc1</th>\n",
              "      <td>1.000000</td>\n",
              "      <td>0.093323</td>\n",
              "      <td>-0.057447</td>\n",
              "      <td>-0.066946</td>\n",
              "      <td>-0.037863</td>\n",
              "      <td>-0.016414</td>\n",
              "      <td>0.006122</td>\n",
              "    </tr>\n",
              "    <tr>\n",
              "      <th>report_year</th>\n",
              "      <td>0.093323</td>\n",
              "      <td>1.000000</td>\n",
              "      <td>0.012952</td>\n",
              "      <td>-0.110853</td>\n",
              "      <td>0.013599</td>\n",
              "      <td>-0.014043</td>\n",
              "      <td>0.010261</td>\n",
              "    </tr>\n",
              "    <tr>\n",
              "      <th>fuel_qty_burned</th>\n",
              "      <td>-0.057447</td>\n",
              "      <td>0.012952</td>\n",
              "      <td>1.000000</td>\n",
              "      <td>-0.080946</td>\n",
              "      <td>-0.018535</td>\n",
              "      <td>-0.003551</td>\n",
              "      <td>-0.001896</td>\n",
              "    </tr>\n",
              "    <tr>\n",
              "      <th>fuel_mmbtu_per_unit</th>\n",
              "      <td>-0.066946</td>\n",
              "      <td>-0.110853</td>\n",
              "      <td>-0.080946</td>\n",
              "      <td>1.000000</td>\n",
              "      <td>-0.010034</td>\n",
              "      <td>-0.009039</td>\n",
              "      <td>-0.005884</td>\n",
              "    </tr>\n",
              "    <tr>\n",
              "      <th>fuel_cost_per_unit_burned</th>\n",
              "      <td>-0.037863</td>\n",
              "      <td>0.013599</td>\n",
              "      <td>-0.018535</td>\n",
              "      <td>-0.010034</td>\n",
              "      <td>1.000000</td>\n",
              "      <td>0.011007</td>\n",
              "      <td>-0.000437</td>\n",
              "    </tr>\n",
              "    <tr>\n",
              "      <th>fuel_cost_per_unit_delivered</th>\n",
              "      <td>-0.016414</td>\n",
              "      <td>-0.014043</td>\n",
              "      <td>-0.003551</td>\n",
              "      <td>-0.009039</td>\n",
              "      <td>0.011007</td>\n",
              "      <td>1.000000</td>\n",
              "      <td>-0.000109</td>\n",
              "    </tr>\n",
              "    <tr>\n",
              "      <th>fuel_cost_per_mmbtu</th>\n",
              "      <td>0.006122</td>\n",
              "      <td>0.010261</td>\n",
              "      <td>-0.001896</td>\n",
              "      <td>-0.005884</td>\n",
              "      <td>-0.000437</td>\n",
              "      <td>-0.000109</td>\n",
              "      <td>1.000000</td>\n",
              "    </tr>\n",
              "  </tbody>\n",
              "</table>\n",
              "</div>"
            ],
            "text/plain": [
              "                              utility_id_ferc1  ...  fuel_cost_per_mmbtu\n",
              "utility_id_ferc1                      1.000000  ...             0.006122\n",
              "report_year                           0.093323  ...             0.010261\n",
              "fuel_qty_burned                      -0.057447  ...            -0.001896\n",
              "fuel_mmbtu_per_unit                  -0.066946  ...            -0.005884\n",
              "fuel_cost_per_unit_burned            -0.037863  ...            -0.000437\n",
              "fuel_cost_per_unit_delivered         -0.016414  ...            -0.000109\n",
              "fuel_cost_per_mmbtu                   0.006122  ...             1.000000\n",
              "\n",
              "[7 rows x 7 columns]"
            ]
          },
          "metadata": {
            "tags": []
          },
          "execution_count": 34
        }
      ]
    },
    {
      "cell_type": "markdown",
      "metadata": {
        "id": "qLfMizbQNZaV",
        "colab_type": "text"
      },
      "source": [
        "### Question 9"
      ]
    },
    {
      "cell_type": "markdown",
      "metadata": {
        "id": "tHQuBcaNt6vm",
        "colab_type": "text"
      },
      "source": [
        "3.59"
      ]
    },
    {
      "cell_type": "code",
      "metadata": {
        "id": "AY4j__WpNdlD",
        "colab_type": "code",
        "colab": {
          "base_uri": "https://localhost:8080/",
          "height": 815
        },
        "outputId": "12b5115e-c37a-42a6-b163-275942c1b284"
      },
      "source": [
        "df.groupby('report_year').first()"
      ],
      "execution_count": null,
      "outputs": [
        {
          "output_type": "execute_result",
          "data": {
            "text/html": [
              "<div>\n",
              "<style scoped>\n",
              "    .dataframe tbody tr th:only-of-type {\n",
              "        vertical-align: middle;\n",
              "    }\n",
              "\n",
              "    .dataframe tbody tr th {\n",
              "        vertical-align: top;\n",
              "    }\n",
              "\n",
              "    .dataframe thead th {\n",
              "        text-align: right;\n",
              "    }\n",
              "</style>\n",
              "<table border=\"1\" class=\"dataframe\">\n",
              "  <thead>\n",
              "    <tr style=\"text-align: right;\">\n",
              "      <th></th>\n",
              "      <th>record_id</th>\n",
              "      <th>utility_id_ferc1</th>\n",
              "      <th>plant_name_ferc1</th>\n",
              "      <th>fuel_type_code_pudl</th>\n",
              "      <th>fuel_unit</th>\n",
              "      <th>fuel_qty_burned</th>\n",
              "      <th>fuel_mmbtu_per_unit</th>\n",
              "      <th>fuel_cost_per_unit_burned</th>\n",
              "      <th>fuel_cost_per_unit_delivered</th>\n",
              "      <th>fuel_cost_per_mmbtu</th>\n",
              "    </tr>\n",
              "    <tr>\n",
              "      <th>report_year</th>\n",
              "      <th></th>\n",
              "      <th></th>\n",
              "      <th></th>\n",
              "      <th></th>\n",
              "      <th></th>\n",
              "      <th></th>\n",
              "      <th></th>\n",
              "      <th></th>\n",
              "      <th></th>\n",
              "      <th></th>\n",
              "    </tr>\n",
              "  </thead>\n",
              "  <tbody>\n",
              "    <tr>\n",
              "      <th>1994</th>\n",
              "      <td>f1_fuel_1994_12_1_0_7</td>\n",
              "      <td>1</td>\n",
              "      <td>rockport</td>\n",
              "      <td>coal</td>\n",
              "      <td>ton</td>\n",
              "      <td>5377489.0</td>\n",
              "      <td>16.590000</td>\n",
              "      <td>18.590</td>\n",
              "      <td>18.530</td>\n",
              "      <td>1.1210</td>\n",
              "    </tr>\n",
              "    <tr>\n",
              "      <th>1995</th>\n",
              "      <td>f1_fuel_1995_12_200_0_1</td>\n",
              "      <td>200</td>\n",
              "      <td>aroostook valley</td>\n",
              "      <td>waste</td>\n",
              "      <td>ton</td>\n",
              "      <td>327060.0</td>\n",
              "      <td>0.004500</td>\n",
              "      <td>0.000</td>\n",
              "      <td>13.150</td>\n",
              "      <td>1.4600</td>\n",
              "    </tr>\n",
              "    <tr>\n",
              "      <th>1996</th>\n",
              "      <td>f1_fuel_1996_12_204_0_1</td>\n",
              "      <td>204</td>\n",
              "      <td>seabrook</td>\n",
              "      <td>nuclear</td>\n",
              "      <td>gramsU</td>\n",
              "      <td>34.0</td>\n",
              "      <td>0.000006</td>\n",
              "      <td>26.381</td>\n",
              "      <td>0.000</td>\n",
              "      <td>0.0000</td>\n",
              "    </tr>\n",
              "    <tr>\n",
              "      <th>1997</th>\n",
              "      <td>f1_fuel_1997_12_1_0_7</td>\n",
              "      <td>1</td>\n",
              "      <td>rockport total aeg</td>\n",
              "      <td>coal</td>\n",
              "      <td>ton</td>\n",
              "      <td>5043970.0</td>\n",
              "      <td>16.752000</td>\n",
              "      <td>19.369</td>\n",
              "      <td>19.070</td>\n",
              "      <td>1.1560</td>\n",
              "    </tr>\n",
              "    <tr>\n",
              "      <th>1998</th>\n",
              "      <td>f1_fuel_1998_12_1_0_7</td>\n",
              "      <td>1</td>\n",
              "      <td>rockport total aeg</td>\n",
              "      <td>coal</td>\n",
              "      <td>ton</td>\n",
              "      <td>4965881.0</td>\n",
              "      <td>17.198000</td>\n",
              "      <td>19.282</td>\n",
              "      <td>19.338</td>\n",
              "      <td>1.1260</td>\n",
              "    </tr>\n",
              "    <tr>\n",
              "      <th>1999</th>\n",
              "      <td>f1_fuel_1999_12_141_0_1</td>\n",
              "      <td>141</td>\n",
              "      <td>boardman</td>\n",
              "      <td>coal</td>\n",
              "      <td>ton</td>\n",
              "      <td>2118951.0</td>\n",
              "      <td>18.052000</td>\n",
              "      <td>20.043</td>\n",
              "      <td>20.054</td>\n",
              "      <td>1.1100</td>\n",
              "    </tr>\n",
              "    <tr>\n",
              "      <th>2000</th>\n",
              "      <td>f1_fuel_2000_12_141_0_1</td>\n",
              "      <td>141</td>\n",
              "      <td>boardman</td>\n",
              "      <td>coal</td>\n",
              "      <td>ton</td>\n",
              "      <td>2084751.0</td>\n",
              "      <td>17.034000</td>\n",
              "      <td>19.225</td>\n",
              "      <td>19.293</td>\n",
              "      <td>1.1290</td>\n",
              "    </tr>\n",
              "    <tr>\n",
              "      <th>2001</th>\n",
              "      <td>f1_fuel_2001_12_195_0_1</td>\n",
              "      <td>195</td>\n",
              "      <td>pulliam 3</td>\n",
              "      <td>coal</td>\n",
              "      <td>ton</td>\n",
              "      <td>55679.0</td>\n",
              "      <td>17.638000</td>\n",
              "      <td>20.560</td>\n",
              "      <td>19.380</td>\n",
              "      <td>1.1560</td>\n",
              "    </tr>\n",
              "    <tr>\n",
              "      <th>2002</th>\n",
              "      <td>f1_fuel_2002_12_195_0_1</td>\n",
              "      <td>195</td>\n",
              "      <td>pulliam 3</td>\n",
              "      <td>coal</td>\n",
              "      <td>ton</td>\n",
              "      <td>82877.0</td>\n",
              "      <td>17.456000</td>\n",
              "      <td>19.410</td>\n",
              "      <td>17.070</td>\n",
              "      <td>1.1020</td>\n",
              "    </tr>\n",
              "    <tr>\n",
              "      <th>2003</th>\n",
              "      <td>f1_fuel_2003_12_283_0_1</td>\n",
              "      <td>283</td>\n",
              "      <td>talbot energy</td>\n",
              "      <td>gas</td>\n",
              "      <td>mcf</td>\n",
              "      <td>180788.0</td>\n",
              "      <td>1.000000</td>\n",
              "      <td>279.130</td>\n",
              "      <td>279.130</td>\n",
              "      <td>2.7913</td>\n",
              "    </tr>\n",
              "    <tr>\n",
              "      <th>2004</th>\n",
              "      <td>f1_fuel_2004_12_1_0_7</td>\n",
              "      <td>1</td>\n",
              "      <td>rockport total aeg</td>\n",
              "      <td>coal</td>\n",
              "      <td>ton</td>\n",
              "      <td>4629653.0</td>\n",
              "      <td>17.864000</td>\n",
              "      <td>24.092</td>\n",
              "      <td>24.022</td>\n",
              "      <td>1.3490</td>\n",
              "    </tr>\n",
              "    <tr>\n",
              "      <th>2005</th>\n",
              "      <td>f1_fuel_2005_12_134_0_1</td>\n",
              "      <td>134</td>\n",
              "      <td>carbon</td>\n",
              "      <td>coal</td>\n",
              "      <td>ton</td>\n",
              "      <td>673090.0</td>\n",
              "      <td>23.028000</td>\n",
              "      <td>17.552</td>\n",
              "      <td>17.159</td>\n",
              "      <td>0.7620</td>\n",
              "    </tr>\n",
              "    <tr>\n",
              "      <th>2006</th>\n",
              "      <td>f1_fuel_2006_12_186_0_1</td>\n",
              "      <td>186</td>\n",
              "      <td>altavista</td>\n",
              "      <td>coal</td>\n",
              "      <td>ton</td>\n",
              "      <td>160919.0</td>\n",
              "      <td>25.484000</td>\n",
              "      <td>65.570</td>\n",
              "      <td>66.870</td>\n",
              "      <td>2.5700</td>\n",
              "    </tr>\n",
              "    <tr>\n",
              "      <th>2007</th>\n",
              "      <td>f1_fuel_2007_12_186_0_1</td>\n",
              "      <td>186</td>\n",
              "      <td>altavista</td>\n",
              "      <td>coal</td>\n",
              "      <td>ton</td>\n",
              "      <td>152665.0</td>\n",
              "      <td>25.660000</td>\n",
              "      <td>80.460</td>\n",
              "      <td>79.830</td>\n",
              "      <td>3.1400</td>\n",
              "    </tr>\n",
              "    <tr>\n",
              "      <th>2008</th>\n",
              "      <td>f1_fuel_2008_12_122_0_1</td>\n",
              "      <td>122</td>\n",
              "      <td>big stone</td>\n",
              "      <td>coal</td>\n",
              "      <td>ton</td>\n",
              "      <td>518267.0</td>\n",
              "      <td>16.846000</td>\n",
              "      <td>29.148</td>\n",
              "      <td>29.148</td>\n",
              "      <td>2.7160</td>\n",
              "    </tr>\n",
              "    <tr>\n",
              "      <th>2009</th>\n",
              "      <td>f1_fuel_2009_12_122_0_1</td>\n",
              "      <td>122</td>\n",
              "      <td>big stone</td>\n",
              "      <td>coal</td>\n",
              "      <td>ton</td>\n",
              "      <td>551992.0</td>\n",
              "      <td>16.846000</td>\n",
              "      <td>30.411</td>\n",
              "      <td>30.411</td>\n",
              "      <td>2.4850</td>\n",
              "    </tr>\n",
              "    <tr>\n",
              "      <th>2010</th>\n",
              "      <td>f1_fuel_2010_12_122_0_1</td>\n",
              "      <td>122</td>\n",
              "      <td>big stone</td>\n",
              "      <td>coal</td>\n",
              "      <td>ton</td>\n",
              "      <td>513861.0</td>\n",
              "      <td>16.846000</td>\n",
              "      <td>33.299</td>\n",
              "      <td>33.299</td>\n",
              "      <td>1.7820</td>\n",
              "    </tr>\n",
              "    <tr>\n",
              "      <th>2011</th>\n",
              "      <td>f1_fuel_2011_12_122_0_1</td>\n",
              "      <td>122</td>\n",
              "      <td>big stone</td>\n",
              "      <td>coal</td>\n",
              "      <td>ton</td>\n",
              "      <td>392102.0</td>\n",
              "      <td>16.486000</td>\n",
              "      <td>35.301</td>\n",
              "      <td>35.301</td>\n",
              "      <td>2.0960</td>\n",
              "    </tr>\n",
              "    <tr>\n",
              "      <th>2012</th>\n",
              "      <td>f1_fuel_2012_12_122_0_1</td>\n",
              "      <td>122</td>\n",
              "      <td>big stone</td>\n",
              "      <td>coal</td>\n",
              "      <td>ton</td>\n",
              "      <td>508138.0</td>\n",
              "      <td>16.846000</td>\n",
              "      <td>34.930</td>\n",
              "      <td>34.930</td>\n",
              "      <td>2.0740</td>\n",
              "    </tr>\n",
              "    <tr>\n",
              "      <th>2013</th>\n",
              "      <td>f1_fuel_2013_12_122_0_1</td>\n",
              "      <td>122</td>\n",
              "      <td>big stone</td>\n",
              "      <td>coal</td>\n",
              "      <td>ton</td>\n",
              "      <td>484678.0</td>\n",
              "      <td>16.846000</td>\n",
              "      <td>32.971</td>\n",
              "      <td>32.971</td>\n",
              "      <td>1.9570</td>\n",
              "    </tr>\n",
              "    <tr>\n",
              "      <th>2014</th>\n",
              "      <td>f1_fuel_2014_12_122_0_1</td>\n",
              "      <td>122</td>\n",
              "      <td>big stone</td>\n",
              "      <td>coal</td>\n",
              "      <td>ton</td>\n",
              "      <td>453825.0</td>\n",
              "      <td>16.572000</td>\n",
              "      <td>33.834</td>\n",
              "      <td>33.834</td>\n",
              "      <td>2.0420</td>\n",
              "    </tr>\n",
              "    <tr>\n",
              "      <th>2015</th>\n",
              "      <td>f1_fuel_2015_12_122_0_2</td>\n",
              "      <td>122</td>\n",
              "      <td>big stone</td>\n",
              "      <td>oil</td>\n",
              "      <td>bbl</td>\n",
              "      <td>2415.0</td>\n",
              "      <td>5.880000</td>\n",
              "      <td>58.465</td>\n",
              "      <td>58.465</td>\n",
              "      <td>9.9430</td>\n",
              "    </tr>\n",
              "    <tr>\n",
              "      <th>2016</th>\n",
              "      <td>f1_fuel_2016_12_122_0_2</td>\n",
              "      <td>122</td>\n",
              "      <td>big stone</td>\n",
              "      <td>oil</td>\n",
              "      <td>bbl</td>\n",
              "      <td>949.0</td>\n",
              "      <td>5.880000</td>\n",
              "      <td>51.787</td>\n",
              "      <td>51.787</td>\n",
              "      <td>8.8070</td>\n",
              "    </tr>\n",
              "    <tr>\n",
              "      <th>2017</th>\n",
              "      <td>f1_fuel_2017_12_122_0_2</td>\n",
              "      <td>122</td>\n",
              "      <td>big stone</td>\n",
              "      <td>oil</td>\n",
              "      <td>bbl</td>\n",
              "      <td>1054.0</td>\n",
              "      <td>5.880000</td>\n",
              "      <td>60.388</td>\n",
              "      <td>60.388</td>\n",
              "      <td>10.2700</td>\n",
              "    </tr>\n",
              "    <tr>\n",
              "      <th>2018</th>\n",
              "      <td>f1_fuel_2018_12_122_0_2</td>\n",
              "      <td>122</td>\n",
              "      <td>big stone</td>\n",
              "      <td>oil</td>\n",
              "      <td>bbl</td>\n",
              "      <td>2344.0</td>\n",
              "      <td>5.880000</td>\n",
              "      <td>63.123</td>\n",
              "      <td>63.123</td>\n",
              "      <td>10.7350</td>\n",
              "    </tr>\n",
              "  </tbody>\n",
              "</table>\n",
              "</div>"
            ],
            "text/plain": [
              "                           record_id  ...  fuel_cost_per_mmbtu\n",
              "report_year                           ...                     \n",
              "1994           f1_fuel_1994_12_1_0_7  ...               1.1210\n",
              "1995         f1_fuel_1995_12_200_0_1  ...               1.4600\n",
              "1996         f1_fuel_1996_12_204_0_1  ...               0.0000\n",
              "1997           f1_fuel_1997_12_1_0_7  ...               1.1560\n",
              "1998           f1_fuel_1998_12_1_0_7  ...               1.1260\n",
              "1999         f1_fuel_1999_12_141_0_1  ...               1.1100\n",
              "2000         f1_fuel_2000_12_141_0_1  ...               1.1290\n",
              "2001         f1_fuel_2001_12_195_0_1  ...               1.1560\n",
              "2002         f1_fuel_2002_12_195_0_1  ...               1.1020\n",
              "2003         f1_fuel_2003_12_283_0_1  ...               2.7913\n",
              "2004           f1_fuel_2004_12_1_0_7  ...               1.3490\n",
              "2005         f1_fuel_2005_12_134_0_1  ...               0.7620\n",
              "2006         f1_fuel_2006_12_186_0_1  ...               2.5700\n",
              "2007         f1_fuel_2007_12_186_0_1  ...               3.1400\n",
              "2008         f1_fuel_2008_12_122_0_1  ...               2.7160\n",
              "2009         f1_fuel_2009_12_122_0_1  ...               2.4850\n",
              "2010         f1_fuel_2010_12_122_0_1  ...               1.7820\n",
              "2011         f1_fuel_2011_12_122_0_1  ...               2.0960\n",
              "2012         f1_fuel_2012_12_122_0_1  ...               2.0740\n",
              "2013         f1_fuel_2013_12_122_0_1  ...               1.9570\n",
              "2014         f1_fuel_2014_12_122_0_1  ...               2.0420\n",
              "2015         f1_fuel_2015_12_122_0_2  ...               9.9430\n",
              "2016         f1_fuel_2016_12_122_0_2  ...               8.8070\n",
              "2017         f1_fuel_2017_12_122_0_2  ...              10.2700\n",
              "2018         f1_fuel_2018_12_122_0_2  ...              10.7350\n",
              "\n",
              "[25 rows x 10 columns]"
            ]
          },
          "metadata": {
            "tags": []
          },
          "execution_count": 53
        }
      ]
    },
    {
      "cell_type": "code",
      "metadata": {
        "id": "o-iqIyNvte5N",
        "colab_type": "code",
        "colab": {
          "base_uri": "https://localhost:8080/",
          "height": 33
        },
        "outputId": "9ed59c9f-c5d7-4399-bb74-b765b6e3e638"
      },
      "source": [
        "(19.282-18.59)/19.282 *100"
      ],
      "execution_count": null,
      "outputs": [
        {
          "output_type": "execute_result",
          "data": {
            "text/plain": [
              "3.588839332019501"
            ]
          },
          "metadata": {
            "tags": []
          },
          "execution_count": 58
        }
      ]
    },
    {
      "cell_type": "markdown",
      "metadata": {
        "id": "qBgonPgyNd6N",
        "colab_type": "text"
      },
      "source": [
        "### Question 10"
      ]
    },
    {
      "cell_type": "markdown",
      "metadata": {
        "id": "OZNoWHkXlpAE",
        "colab_type": "text"
      },
      "source": [
        "1997"
      ]
    },
    {
      "cell_type": "code",
      "metadata": {
        "id": "Xxo1BVGCNghV",
        "colab_type": "code",
        "colab": {
          "base_uri": "https://localhost:8080/",
          "height": 456
        },
        "outputId": "1f822054-2f5c-4437-b32b-27b92348cc6b"
      },
      "source": [
        "df.groupby('report_year')['fuel_cost_per_unit_delivered'].mean().sort_values()"
      ],
      "execution_count": null,
      "outputs": [
        {
          "output_type": "execute_result",
          "data": {
            "text/plain": [
              "report_year\n",
              "1999       25.551627\n",
              "1995       32.735269\n",
              "2006       38.657484\n",
              "2005       41.438184\n",
              "2007       43.325023\n",
              "2017       46.196861\n",
              "2002       47.594361\n",
              "2003       55.663493\n",
              "2008       58.588197\n",
              "2011       59.774667\n",
              "2001       60.050396\n",
              "2012       60.994502\n",
              "1994       63.636060\n",
              "2010       91.862105\n",
              "2016      103.901761\n",
              "2004      139.524275\n",
              "2013      172.307591\n",
              "2014      192.737183\n",
              "1998      287.154420\n",
              "2015      326.535511\n",
              "2018      499.269966\n",
              "2009      652.694163\n",
              "2000      985.362877\n",
              "1996     9196.705948\n",
              "1997    11140.197239\n",
              "Name: fuel_cost_per_unit_delivered, dtype: float64"
            ]
          },
          "metadata": {
            "tags": []
          },
          "execution_count": 48
        }
      ]
    }
  ]
}